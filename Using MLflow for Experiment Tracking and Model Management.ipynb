{
 "cells": [
  {
   "cell_type": "markdown",
   "id": "383ed396",
   "metadata": {},
   "source": [
    "# **MLFlow: Unified Platform for Experiment Tracking and Model Registry**"
   ]
  },
  {
   "cell_type": "markdown",
   "id": "7978cbf9",
   "metadata": {},
   "source": [
    "MLflow is an open-source platform for managing the end-to-end machine learning lifecycle. It provides a suite of tools and components designed to streamline the development, experimentation, productionization, and collaboration aspects of machine learning projects. MLflow is widely used by data scientists, machine learning engineers, and researchers to track experiments, package and share code, and deploy models at scale."
   ]
  },
  {
   "cell_type": "markdown",
   "id": "5ccc4333",
   "metadata": {},
   "source": [
    "## **Key Features:**\n",
    "1. Experiment Tracking\n",
    "2. Model Registry"
   ]
  },
  {
   "cell_type": "markdown",
   "id": "9f04997c",
   "metadata": {},
   "source": [
    "## **Loading the Data**"
   ]
  },
  {
   "cell_type": "code",
   "execution_count": 30,
   "id": "316611cc",
   "metadata": {},
   "outputs": [],
   "source": [
    "import pandas as pd\n",
    "import numpy as np\n",
    "import matplotlib.pyplot as plt\n",
    "import seaborn as sns\n",
    "from nltk.sentiment.vader import SentimentIntensityAnalyzer\n",
    "## nltk.download('vader_lexicon')\n",
    "import warnings\n",
    "warnings.filterwarnings('ignore')\n",
    "from sklearn.model_selection import train_test_split\n",
    "from sklearn.neighbors import KNeighborsClassifier\n",
    "from sklearn.svm import SVC\n",
    "from sklearn.linear_model import LogisticRegression\n",
    "from sklearn.ensemble import RandomForestClassifier\n",
    "from sklearn.tree import DecisionTreeClassifier\n",
    "from sklearn.naive_bayes import MultinomialNB\n",
    "from sklearn.model_selection import GridSearchCV\n",
    "from sklearn.pipeline import Pipeline\n",
    "import mlflow.sklearn\n",
    "from sklearn.feature_extraction.text import CountVectorizer,TfidfVectorizer,TfidfTransformer\n",
    "import joblib\n",
    "from joblib import Memory\n",
    "import os\n",
    "from sklearn.metrics import accuracy_score"
   ]
  },
  {
   "cell_type": "code",
   "execution_count": 2,
   "id": "41034139",
   "metadata": {},
   "outputs": [],
   "source": [
    "yonex = pd.read_csv(r\"C:\\Users\\ASUS\\Documents\\Innomatics Jupyter notebooks\\Data Science Internship\\Tasks\\Sentiment Analysis on Flipkart Products\\yonex.csv\")"
   ]
  },
  {
   "cell_type": "code",
   "execution_count": 3,
   "id": "1cdb7989",
   "metadata": {},
   "outputs": [
    {
     "data": {
      "text/html": [
       "<div>\n",
       "<style scoped>\n",
       "    .dataframe tbody tr th:only-of-type {\n",
       "        vertical-align: middle;\n",
       "    }\n",
       "\n",
       "    .dataframe tbody tr th {\n",
       "        vertical-align: top;\n",
       "    }\n",
       "\n",
       "    .dataframe thead th {\n",
       "        text-align: right;\n",
       "    }\n",
       "</style>\n",
       "<table border=\"1\" class=\"dataframe\">\n",
       "  <thead>\n",
       "    <tr style=\"text-align: right;\">\n",
       "      <th></th>\n",
       "      <th>Reviewer Name</th>\n",
       "      <th>Review Title</th>\n",
       "      <th>Place of Review</th>\n",
       "      <th>Up Votes</th>\n",
       "      <th>Down Votes</th>\n",
       "      <th>Month</th>\n",
       "      <th>Review text</th>\n",
       "      <th>Ratings</th>\n",
       "    </tr>\n",
       "  </thead>\n",
       "  <tbody>\n",
       "    <tr>\n",
       "      <th>0</th>\n",
       "      <td>Kamal Suresh</td>\n",
       "      <td>Nice product</td>\n",
       "      <td>Certified Buyer, Chirakkal</td>\n",
       "      <td>889.0</td>\n",
       "      <td>64.0</td>\n",
       "      <td>Feb 2021</td>\n",
       "      <td>nice product good quality price rising bad sig...</td>\n",
       "      <td>4</td>\n",
       "    </tr>\n",
       "    <tr>\n",
       "      <th>1</th>\n",
       "      <td>Flipkart Customer</td>\n",
       "      <td>Don't waste your money</td>\n",
       "      <td>Certified Buyer, Hyderabad</td>\n",
       "      <td>109.0</td>\n",
       "      <td>6.0</td>\n",
       "      <td>Feb 2021</td>\n",
       "      <td>it supplied one davis outside cover one ad ins...</td>\n",
       "      <td>1</td>\n",
       "    </tr>\n",
       "    <tr>\n",
       "      <th>2</th>\n",
       "      <td>A. S. Raja Srinivasan</td>\n",
       "      <td>Did not meet expectations</td>\n",
       "      <td>Certified Buyer, Dharmapuri</td>\n",
       "      <td>42.0</td>\n",
       "      <td>3.0</td>\n",
       "      <td>Apr 2021</td>\n",
       "      <td>worst product damaged shuttlecocks packed new ...</td>\n",
       "      <td>1</td>\n",
       "    </tr>\n",
       "    <tr>\n",
       "      <th>3</th>\n",
       "      <td>Suresh Narayanasamy</td>\n",
       "      <td>Fair</td>\n",
       "      <td>Certified Buyer, Chennai</td>\n",
       "      <td>25.0</td>\n",
       "      <td>1.0</td>\n",
       "      <td>Oct 2020</td>\n",
       "      <td>quite k nowadays quality corks like years back...</td>\n",
       "      <td>3</td>\n",
       "    </tr>\n",
       "    <tr>\n",
       "      <th>4</th>\n",
       "      <td>ASHIK P A</td>\n",
       "      <td>Over priced</td>\n",
       "      <td>Certified Buyer, Bengaluru</td>\n",
       "      <td>147.0</td>\n",
       "      <td>24.0</td>\n",
       "      <td>Apr 2016</td>\n",
       "      <td>pricedjust retailer it understand wat advantag...</td>\n",
       "      <td>1</td>\n",
       "    </tr>\n",
       "    <tr>\n",
       "      <th>...</th>\n",
       "      <td>...</td>\n",
       "      <td>...</td>\n",
       "      <td>...</td>\n",
       "      <td>...</td>\n",
       "      <td>...</td>\n",
       "      <td>...</td>\n",
       "      <td>...</td>\n",
       "      <td>...</td>\n",
       "    </tr>\n",
       "    <tr>\n",
       "      <th>8503</th>\n",
       "      <td>darwin</td>\n",
       "      <td>Yones Mavis 350 Blue cap</td>\n",
       "      <td>Certified Buyer, Bengaluru</td>\n",
       "      <td>2.0</td>\n",
       "      <td>0.0</td>\n",
       "      <td>Apr 2016</td>\n",
       "      <td>wrist duplicate produced it buy seller product...</td>\n",
       "      <td>1</td>\n",
       "    </tr>\n",
       "    <tr>\n",
       "      <th>8504</th>\n",
       "      <td>naresh g</td>\n",
       "      <td>For Mavis350</td>\n",
       "      <td>Certified Buyer, Bengaluru</td>\n",
       "      <td>2.0</td>\n",
       "      <td>1.0</td>\n",
       "      <td>Aug 2016</td>\n",
       "      <td>received product intact sealedread</td>\n",
       "      <td>5</td>\n",
       "    </tr>\n",
       "    <tr>\n",
       "      <th>8505</th>\n",
       "      <td>MD. Jabbar</td>\n",
       "      <td>Very Good</td>\n",
       "      <td>Certified Buyer, Bengaluru</td>\n",
       "      <td>1.0</td>\n",
       "      <td>0.0</td>\n",
       "      <td>Sep 2016</td>\n",
       "      <td>delivered time price high marketread</td>\n",
       "      <td>3</td>\n",
       "    </tr>\n",
       "    <tr>\n",
       "      <th>8506</th>\n",
       "      <td>Abani Behera</td>\n",
       "      <td>Don't waste your money</td>\n",
       "      <td>Certified Buyer, Bengaluru</td>\n",
       "      <td>0.0</td>\n",
       "      <td>2.0</td>\n",
       "      <td>Sep 2016</td>\n",
       "      <td>mark available market less priceread</td>\n",
       "      <td>4</td>\n",
       "    </tr>\n",
       "    <tr>\n",
       "      <th>8507</th>\n",
       "      <td>vishnu varma</td>\n",
       "      <td>Really Nice</td>\n",
       "      <td>Certified Buyer, Agartala</td>\n",
       "      <td>0.0</td>\n",
       "      <td>1.0</td>\n",
       "      <td>Sep 2016</td>\n",
       "      <td>nice delivery speedread</td>\n",
       "      <td>5</td>\n",
       "    </tr>\n",
       "  </tbody>\n",
       "</table>\n",
       "<p>8508 rows × 8 columns</p>\n",
       "</div>"
      ],
      "text/plain": [
       "               Reviewer Name               Review Title  \\\n",
       "0               Kamal Suresh               Nice product   \n",
       "1          Flipkart Customer     Don't waste your money   \n",
       "2     A. S. Raja Srinivasan   Did not meet expectations   \n",
       "3        Suresh Narayanasamy                       Fair   \n",
       "4                  ASHIK P A                Over priced   \n",
       "...                      ...                        ...   \n",
       "8503                  darwin   Yones Mavis 350 Blue cap   \n",
       "8504                naresh g               For Mavis350   \n",
       "8505              MD. Jabbar                  Very Good   \n",
       "8506            Abani Behera     Don't waste your money   \n",
       "8507            vishnu varma                Really Nice   \n",
       "\n",
       "                  Place of Review  Up Votes  Down Votes     Month  \\\n",
       "0      Certified Buyer, Chirakkal     889.0        64.0  Feb 2021   \n",
       "1      Certified Buyer, Hyderabad     109.0         6.0  Feb 2021   \n",
       "2     Certified Buyer, Dharmapuri      42.0         3.0  Apr 2021   \n",
       "3        Certified Buyer, Chennai      25.0         1.0  Oct 2020   \n",
       "4      Certified Buyer, Bengaluru     147.0        24.0  Apr 2016   \n",
       "...                           ...       ...         ...       ...   \n",
       "8503   Certified Buyer, Bengaluru       2.0         0.0  Apr 2016   \n",
       "8504   Certified Buyer, Bengaluru       2.0         1.0  Aug 2016   \n",
       "8505   Certified Buyer, Bengaluru       1.0         0.0  Sep 2016   \n",
       "8506   Certified Buyer, Bengaluru       0.0         2.0  Sep 2016   \n",
       "8507    Certified Buyer, Agartala       0.0         1.0  Sep 2016   \n",
       "\n",
       "                                            Review text  Ratings  \n",
       "0     nice product good quality price rising bad sig...        4  \n",
       "1     it supplied one davis outside cover one ad ins...        1  \n",
       "2     worst product damaged shuttlecocks packed new ...        1  \n",
       "3     quite k nowadays quality corks like years back...        3  \n",
       "4     pricedjust retailer it understand wat advantag...        1  \n",
       "...                                                 ...      ...  \n",
       "8503  wrist duplicate produced it buy seller product...        1  \n",
       "8504                 received product intact sealedread        5  \n",
       "8505               delivered time price high marketread        3  \n",
       "8506               mark available market less priceread        4  \n",
       "8507                            nice delivery speedread        5  \n",
       "\n",
       "[8508 rows x 8 columns]"
      ]
     },
     "execution_count": 3,
     "metadata": {},
     "output_type": "execute_result"
    }
   ],
   "source": [
    "yonex"
   ]
  },
  {
   "cell_type": "code",
   "execution_count": 4,
   "id": "d7e61aea",
   "metadata": {},
   "outputs": [],
   "source": [
    "analyzer = SentimentIntensityAnalyzer()"
   ]
  },
  {
   "cell_type": "code",
   "execution_count": 5,
   "id": "64f54b97",
   "metadata": {},
   "outputs": [],
   "source": [
    "def polarity(n):\n",
    "    return analyzer.polarity_scores(n)['compound']"
   ]
  },
  {
   "cell_type": "code",
   "execution_count": 6,
   "id": "6aa89f22",
   "metadata": {},
   "outputs": [],
   "source": [
    "yonex['Emotion'] = yonex['Review text'].apply(polarity)"
   ]
  },
  {
   "cell_type": "code",
   "execution_count": 7,
   "id": "cf7a4e85",
   "metadata": {},
   "outputs": [
    {
     "data": {
      "text/plain": [
       "<Axes: >"
      ]
     },
     "execution_count": 7,
     "metadata": {},
     "output_type": "execute_result"
    },
    {
     "data": {
      "image/png": "[encoded data removed]",
      "text/plain": [
       "<Figure size 640x480 with 1 Axes>"
      ]
     },
     "metadata": {},
     "output_type": "display_data"
    }
   ],
   "source": [
    "def sentiment(n):\n",
    "    if n <= 0.3:\n",
    "        return 'Negative'\n",
    "    else:\n",
    "        return 'Positive'\n",
    "yonex['Emotion'] = yonex['Emotion'].apply(sentiment)\n",
    "yonex['Emotion'].value_counts().plot(kind = 'bar')"
   ]
  },
  {
   "cell_type": "code",
   "execution_count": 8,
   "id": "13af3e0a",
   "metadata": {},
   "outputs": [],
   "source": [
    "df = pd.concat([yonex['Review text'],yonex['Emotion']],axis=1)"
   ]
  },
  {
   "cell_type": "code",
   "execution_count": 9,
   "id": "5963e619",
   "metadata": {},
   "outputs": [
    {
     "data": {
      "text/html": [
       "<div>\n",
       "<style scoped>\n",
       "    .dataframe tbody tr th:only-of-type {\n",
       "        vertical-align: middle;\n",
       "    }\n",
       "\n",
       "    .dataframe tbody tr th {\n",
       "        vertical-align: top;\n",
       "    }\n",
       "\n",
       "    .dataframe thead th {\n",
       "        text-align: right;\n",
       "    }\n",
       "</style>\n",
       "<table border=\"1\" class=\"dataframe\">\n",
       "  <thead>\n",
       "    <tr style=\"text-align: right;\">\n",
       "      <th></th>\n",
       "      <th>Review text</th>\n",
       "      <th>Emotion</th>\n",
       "    </tr>\n",
       "  </thead>\n",
       "  <tbody>\n",
       "    <tr>\n",
       "      <th>0</th>\n",
       "      <td>nice product good quality price rising bad sig...</td>\n",
       "      <td>Positive</td>\n",
       "    </tr>\n",
       "    <tr>\n",
       "      <th>1</th>\n",
       "      <td>it supplied one davis outside cover one ad ins...</td>\n",
       "      <td>Negative</td>\n",
       "    </tr>\n",
       "    <tr>\n",
       "      <th>2</th>\n",
       "      <td>worst product damaged shuttlecocks packed new ...</td>\n",
       "      <td>Negative</td>\n",
       "    </tr>\n",
       "    <tr>\n",
       "      <th>3</th>\n",
       "      <td>quite k nowadays quality corks like years back...</td>\n",
       "      <td>Positive</td>\n",
       "    </tr>\n",
       "    <tr>\n",
       "      <th>4</th>\n",
       "      <td>pricedjust retailer it understand wat advantag...</td>\n",
       "      <td>Negative</td>\n",
       "    </tr>\n",
       "    <tr>\n",
       "      <th>...</th>\n",
       "      <td>...</td>\n",
       "      <td>...</td>\n",
       "    </tr>\n",
       "    <tr>\n",
       "      <th>8503</th>\n",
       "      <td>wrist duplicate produced it buy seller product...</td>\n",
       "      <td>Negative</td>\n",
       "    </tr>\n",
       "    <tr>\n",
       "      <th>8504</th>\n",
       "      <td>received product intact sealedread</td>\n",
       "      <td>Negative</td>\n",
       "    </tr>\n",
       "    <tr>\n",
       "      <th>8505</th>\n",
       "      <td>delivered time price high marketread</td>\n",
       "      <td>Negative</td>\n",
       "    </tr>\n",
       "    <tr>\n",
       "      <th>8506</th>\n",
       "      <td>mark available market less priceread</td>\n",
       "      <td>Negative</td>\n",
       "    </tr>\n",
       "    <tr>\n",
       "      <th>8507</th>\n",
       "      <td>nice delivery speedread</td>\n",
       "      <td>Positive</td>\n",
       "    </tr>\n",
       "  </tbody>\n",
       "</table>\n",
       "<p>8508 rows × 2 columns</p>\n",
       "</div>"
      ],
      "text/plain": [
       "                                            Review text   Emotion\n",
       "0     nice product good quality price rising bad sig...  Positive\n",
       "1     it supplied one davis outside cover one ad ins...  Negative\n",
       "2     worst product damaged shuttlecocks packed new ...  Negative\n",
       "3     quite k nowadays quality corks like years back...  Positive\n",
       "4     pricedjust retailer it understand wat advantag...  Negative\n",
       "...                                                 ...       ...\n",
       "8503  wrist duplicate produced it buy seller product...  Negative\n",
       "8504                 received product intact sealedread  Negative\n",
       "8505               delivered time price high marketread  Negative\n",
       "8506               mark available market less priceread  Negative\n",
       "8507                            nice delivery speedread  Positive\n",
       "\n",
       "[8508 rows x 2 columns]"
      ]
     },
     "execution_count": 9,
     "metadata": {},
     "output_type": "execute_result"
    }
   ],
   "source": [
    "df"
   ]
  },
  {
   "cell_type": "code",
   "execution_count": 12,
   "id": "b87deccc",
   "metadata": {},
   "outputs": [],
   "source": [
    "#df.to_csv('df_yonex.csv',index=False)"
   ]
  },
  {
   "cell_type": "code",
   "execution_count": 10,
   "id": "221d311f",
   "metadata": {},
   "outputs": [],
   "source": [
    "X=df['Review text']\n",
    "y=df['Emotion']"
   ]
  },
  {
   "cell_type": "code",
   "execution_count": 11,
   "id": "67843b78",
   "metadata": {},
   "outputs": [],
   "source": [
    "X_train,X_test,y_train,y_test = train_test_split(X,y,test_size=0.25,random_state=42)"
   ]
  },
  {
   "cell_type": "markdown",
   "id": "0e8b4032",
   "metadata": {},
   "source": [
    "## **Auto Logging KNN Experiment Run using MLFlow**"
   ]
  },
  {
   "cell_type": "code",
   "execution_count": 28,
   "id": "ec26feec",
   "metadata": {},
   "outputs": [],
   "source": [
    "#! pip install mlflow"
   ]
  },
  {
   "cell_type": "code",
   "execution_count": 12,
   "id": "4621aec2",
   "metadata": {
    "scrolled": true
   },
   "outputs": [
    {
     "name": "stderr",
     "output_type": "stream",
     "text": [
      "2024/03/28 11:12:22 INFO mlflow.tracking.fluent: Experiment with name 'sentiment_analysis' does not exist. Creating a new experiment.\n"
     ]
    },
    {
     "data": {
      "text/plain": [
       "<Experiment: artifact_location='file:///C:/Users/ASUS/Documents/Innomatics%20Jupyter%20notebooks/Data%20Science%20Internship/Tasks/MLFlow%20Task/mlruns/270206520674486399', creation_time=1711604542164, experiment_id='270206520674486399', last_update_time=1711604542164, lifecycle_stage='active', name='sentiment_analysis', tags={}>"
      ]
     },
     "execution_count": 12,
     "metadata": {},
     "output_type": "execute_result"
    }
   ],
   "source": [
    "import mlflow\n",
    "\n",
    "mlflow.set_experiment(\"sentiment_analysis\")"
   ]
  },
  {
   "cell_type": "code",
   "execution_count": 15,
   "id": "264a2796",
   "metadata": {},
   "outputs": [],
   "source": [
    "pipelines = {\n",
    "    'knn': Pipeline([\n",
    "        ('Vectorization', CountVectorizer()),\n",
    "        ('TF-IDF', TfidfTransformer()),\n",
    "        ('Estimator',KNeighborsClassifier())\n",
    "    ]),\n",
    "    'naive_bayes': Pipeline([\n",
    "        ('Vectorization', CountVectorizer()),\n",
    "        ('TF-IDF', TfidfTransformer()),\n",
    "        ('Estimator', MultinomialNB())\n",
    "    ]),\n",
    "    'logistic_regression': Pipeline([\n",
    "        ('Vectorization', CountVectorizer()),\n",
    "        ('TF-IDF', TfidfTransformer()),\n",
    "        ('Estimator', LogisticRegression())\n",
    "    ]),\n",
    "    'random_forest': Pipeline([\n",
    "        ('Vectorization', CountVectorizer()),\n",
    "        ('TF-IDF', TfidfTransformer()),\n",
    "        ('Estimator', RandomForestClassifier())\n",
    "    ]),\n",
    "    'svc': Pipeline([\n",
    "        ('Vectorization', CountVectorizer()),\n",
    "        ('TF-IDF', TfidfTransformer()),\n",
    "        ('Estimator', SVC())\n",
    "    ]),\n",
    "    'decision_tree': Pipeline([\n",
    "        ('Vectorization', CountVectorizer()),\n",
    "        ('TF-IDF', TfidfTransformer()),\n",
    "        ('Estimator', DecisionTreeClassifier())\n",
    "    ])\n",
    "}\n",
    "\n",
    "# Define parameter grids for each algorithm\n",
    "param_grids = {\n",
    "    'knn': [\n",
    "        {\n",
    "            'Vectorization__min_df': [1, 2, 3],\n",
    "            'Vectorization__max_df': [0.5, 0.7, 1.0],\n",
    "            'Estimator__n_neighbors': [i for i in range(3, 21, 2)],\n",
    "            'Estimator__p': [1, 2, 3]\n",
    "        }\n",
    "    ],\n",
    "    'naive_bayes': [\n",
    "        {\n",
    "            'Vectorization__min_df': [1, 2, 3],\n",
    "            'Vectorization__max_df': [0.5, 0.7, 1.0],\n",
    "            'Estimator__alpha': [1, 2, 3]\n",
    "        }\n",
    "    ],\n",
    "    'logistic_regression': [\n",
    "        {\n",
    "            'Vectorization__min_df': [1, 2, 3],\n",
    "            'Vectorization__max_df': [0.5, 0.7, 1.0],\n",
    "            'Estimator__C': [0.1, 1, 10],\n",
    "            'Estimator__penalty': ['l1', 'l2']\n",
    "        }\n",
    "    ],\n",
    "    'random_forest': [\n",
    "        {\n",
    "            'Vectorization__min_df': [1, 2, 3],\n",
    "            'Vectorization__max_df': [0.5, 0.7, 1.0],\n",
    "            'Estimator__n_estimators': [50, 100, 200]\n",
    "        }\n",
    "    ],\n",
    "    'svc': [\n",
    "        {\n",
    "            'Vectorization__min_df': [1, 2, 3],\n",
    "            'Vectorization__max_df': [0.5, 0.7, 1.0],\n",
    "            'Estimator__kernel': ['linear', 'rbf'],\n",
    "            'Estimator__C': [0.1, 1, 10]\n",
    "        }\n",
    "    ],\n",
    "    'decision_tree': [\n",
    "        {\n",
    "            'Vectorization__min_df': [1, 2, 3],\n",
    "            'Vectorization__max_df': [0.5, 0.7, 1.0],\n",
    "            'Estimator__max_depth': [None, 5, 10]\n",
    "        }\n",
    "    ]\n",
    "}"
   ]
  },
  {
   "cell_type": "code",
   "execution_count": 16,
   "id": "41fda672",
   "metadata": {
    "scrolled": false
   },
   "outputs": [
    {
     "name": "stderr",
     "output_type": "stream",
     "text": [
      "2024/03/28 11:19:10 WARNING mlflow.sklearn: Unrecognized dataset type <class 'pandas.core.series.Series'>. Dataset logging skipped.\n"
     ]
    },
    {
     "name": "stdout",
     "output_type": "stream",
     "text": [
      "********** knn **********\n",
      "Fitting 5 folds for each of 243 candidates, totalling 1215 fits\n",
      "CPU times: total: 14min 8s\n",
      "Wall time: 6min 26s\n",
      "Train Score:  0.8721197065025542\n",
      "Test Score:  0.8692994828396803\n",
      "\n",
      "********** naive_bayes **********\n"
     ]
    },
    {
     "name": "stderr",
     "output_type": "stream",
     "text": [
      "2024/03/28 11:25:38 WARNING mlflow.sklearn: Unrecognized dataset type <class 'pandas.core.series.Series'>. Dataset logging skipped.\n"
     ]
    },
    {
     "name": "stdout",
     "output_type": "stream",
     "text": [
      "Fitting 5 folds for each of 27 candidates, totalling 135 fits\n",
      "CPU times: total: 21.8 s\n",
      "Wall time: 41.2 s\n",
      "Train Score:  0.9061250039890713\n",
      "Test Score:  0.9045604137282558\n",
      "\n",
      "********** logistic_regression **********\n"
     ]
    },
    {
     "name": "stderr",
     "output_type": "stream",
     "text": [
      "2024/03/28 11:26:20 WARNING mlflow.sklearn: Unrecognized dataset type <class 'pandas.core.series.Series'>. Dataset logging skipped.\n"
     ]
    },
    {
     "name": "stdout",
     "output_type": "stream",
     "text": [
      "Fitting 5 folds for each of 54 candidates, totalling 270 fits\n",
      "CPU times: total: 29.5 s\n",
      "Wall time: 51.6 s\n",
      "Train Score:  0.9711635568276942\n",
      "Test Score:  0.9774330042313117\n",
      "\n",
      "********** random_forest **********\n"
     ]
    },
    {
     "name": "stderr",
     "output_type": "stream",
     "text": [
      "2024/03/28 11:27:12 WARNING mlflow.sklearn: Unrecognized dataset type <class 'pandas.core.series.Series'>. Dataset logging skipped.\n"
     ]
    },
    {
     "name": "stdout",
     "output_type": "stream",
     "text": [
      "Fitting 5 folds for each of 27 candidates, totalling 135 fits\n",
      "CPU times: total: 5min 5s\n",
      "Wall time: 5min 34s\n",
      "Train Score:  0.9667750875754548\n",
      "Test Score:  0.9699106723084157\n",
      "\n",
      "********** svc **********\n"
     ]
    },
    {
     "name": "stderr",
     "output_type": "stream",
     "text": [
      "2024/03/28 11:32:47 WARNING mlflow.sklearn: Unrecognized dataset type <class 'pandas.core.series.Series'>. Dataset logging skipped.\n"
     ]
    },
    {
     "name": "stdout",
     "output_type": "stream",
     "text": [
      "Fitting 5 folds for each of 54 candidates, totalling 270 fits\n",
      "CPU times: total: 6min 52s\n",
      "Wall time: 10min 8s\n",
      "Train Score:  0.9711641705309514\n",
      "Test Score:  0.9769628584861307\n",
      "\n",
      "********** decision_tree **********\n"
     ]
    },
    {
     "name": "stderr",
     "output_type": "stream",
     "text": [
      "2024/03/28 11:42:58 WARNING mlflow.sklearn: Unrecognized dataset type <class 'pandas.core.series.Series'>. Dataset logging skipped.\n"
     ]
    },
    {
     "name": "stdout",
     "output_type": "stream",
     "text": [
      "Fitting 5 folds for each of 27 candidates, totalling 135 fits\n",
      "CPU times: total: 53.9 s\n",
      "Wall time: 2min 37s\n",
      "Train Score:  0.9684994709877923\n",
      "Test Score:  0.9717912552891397\n",
      "\n"
     ]
    }
   ],
   "source": [
    "best_models = {}\n",
    "# Run the Pipeline\n",
    "for algo in pipelines.keys():\n",
    "    print(\"*\"*10, algo, \"*\"*10)\n",
    "    grid_search = GridSearchCV(estimator=pipelines[algo], \n",
    "                               param_grid=param_grids[algo], \n",
    "                               cv=5, \n",
    "                               scoring='accuracy', \n",
    "                               return_train_score=True,\n",
    "                               verbose=1\n",
    "                              )\n",
    "    \n",
    "    mlflow.sklearn.autolog(max_tuning_runs=None)\n",
    "    \n",
    "    with mlflow.start_run() as run:\n",
    "        %time grid_search.fit(X_train, y_train)\n",
    "        \n",
    "    print('Train Score: ', grid_search.best_score_)\n",
    "    print('Test Score: ', grid_search.score(X_test, y_test))\n",
    "    \n",
    "    best_models[algo] = grid_search.best_estimator_\n",
    "    print()"
   ]
  },
  {
   "cell_type": "code",
   "execution_count": 39,
   "id": "42b16673",
   "metadata": {},
   "outputs": [],
   "source": [
    "# Stop the auto logger\n",
    "\n",
    "mlflow.sklearn.autolog(disable=True)"
   ]
  },
  {
   "cell_type": "markdown",
   "id": "f6cc0791",
   "metadata": {},
   "source": [
    "# Machine Learning Workflow Orchestration"
   ]
  },
  {
   "cell_type": "code",
   "execution_count": 17,
   "id": "d336019c",
   "metadata": {},
   "outputs": [],
   "source": [
    "df=pd.read_csv('df_yonex.csv')"
   ]
  },
  {
   "cell_type": "code",
   "execution_count": 18,
   "id": "beed003c",
   "metadata": {},
   "outputs": [
    {
     "data": {
      "text/html": [
       "<div>\n",
       "<style scoped>\n",
       "    .dataframe tbody tr th:only-of-type {\n",
       "        vertical-align: middle;\n",
       "    }\n",
       "\n",
       "    .dataframe tbody tr th {\n",
       "        vertical-align: top;\n",
       "    }\n",
       "\n",
       "    .dataframe thead th {\n",
       "        text-align: right;\n",
       "    }\n",
       "</style>\n",
       "<table border=\"1\" class=\"dataframe\">\n",
       "  <thead>\n",
       "    <tr style=\"text-align: right;\">\n",
       "      <th></th>\n",
       "      <th>Review text</th>\n",
       "      <th>Emotion</th>\n",
       "    </tr>\n",
       "  </thead>\n",
       "  <tbody>\n",
       "    <tr>\n",
       "      <th>0</th>\n",
       "      <td>nice product good quality price rising bad sig...</td>\n",
       "      <td>Positive</td>\n",
       "    </tr>\n",
       "    <tr>\n",
       "      <th>1</th>\n",
       "      <td>it supplied one davis outside cover one ad ins...</td>\n",
       "      <td>Negative</td>\n",
       "    </tr>\n",
       "    <tr>\n",
       "      <th>2</th>\n",
       "      <td>worst product damaged shuttlecocks packed new ...</td>\n",
       "      <td>Negative</td>\n",
       "    </tr>\n",
       "    <tr>\n",
       "      <th>3</th>\n",
       "      <td>quite k nowadays quality corks like years back...</td>\n",
       "      <td>Positive</td>\n",
       "    </tr>\n",
       "    <tr>\n",
       "      <th>4</th>\n",
       "      <td>pricedjust retailer it understand wat advantag...</td>\n",
       "      <td>Negative</td>\n",
       "    </tr>\n",
       "    <tr>\n",
       "      <th>...</th>\n",
       "      <td>...</td>\n",
       "      <td>...</td>\n",
       "    </tr>\n",
       "    <tr>\n",
       "      <th>8503</th>\n",
       "      <td>wrist duplicate produced it buy seller product...</td>\n",
       "      <td>Negative</td>\n",
       "    </tr>\n",
       "    <tr>\n",
       "      <th>8504</th>\n",
       "      <td>received product intact sealedread</td>\n",
       "      <td>Negative</td>\n",
       "    </tr>\n",
       "    <tr>\n",
       "      <th>8505</th>\n",
       "      <td>delivered time price high marketread</td>\n",
       "      <td>Negative</td>\n",
       "    </tr>\n",
       "    <tr>\n",
       "      <th>8506</th>\n",
       "      <td>mark available market less priceread</td>\n",
       "      <td>Negative</td>\n",
       "    </tr>\n",
       "    <tr>\n",
       "      <th>8507</th>\n",
       "      <td>nice delivery speedread</td>\n",
       "      <td>Positive</td>\n",
       "    </tr>\n",
       "  </tbody>\n",
       "</table>\n",
       "<p>8508 rows × 2 columns</p>\n",
       "</div>"
      ],
      "text/plain": [
       "                                            Review text   Emotion\n",
       "0     nice product good quality price rising bad sig...  Positive\n",
       "1     it supplied one davis outside cover one ad ins...  Negative\n",
       "2     worst product damaged shuttlecocks packed new ...  Negative\n",
       "3     quite k nowadays quality corks like years back...  Positive\n",
       "4     pricedjust retailer it understand wat advantag...  Negative\n",
       "...                                                 ...       ...\n",
       "8503  wrist duplicate produced it buy seller product...  Negative\n",
       "8504                 received product intact sealedread  Negative\n",
       "8505               delivered time price high marketread  Negative\n",
       "8506               mark available market less priceread  Negative\n",
       "8507                            nice delivery speedread  Positive\n",
       "\n",
       "[8508 rows x 2 columns]"
      ]
     },
     "execution_count": 18,
     "metadata": {},
     "output_type": "execute_result"
    }
   ],
   "source": [
    "df"
   ]
  },
  {
   "cell_type": "code",
   "execution_count": 16,
   "id": "3aa3adc9",
   "metadata": {},
   "outputs": [
    {
     "data": {
      "text/plain": [
       "array([[0, 0, 0, ..., 0, 0, 0],\n",
       "       [0, 0, 0, ..., 0, 0, 0],\n",
       "       [0, 0, 0, ..., 0, 0, 0],\n",
       "       ...,\n",
       "       [0, 0, 0, ..., 0, 0, 0],\n",
       "       [0, 0, 0, ..., 0, 0, 0],\n",
       "       [0, 0, 0, ..., 0, 0, 0]], dtype=int64)"
      ]
     },
     "execution_count": 16,
     "metadata": {},
     "output_type": "execute_result"
    }
   ],
   "source": [
    "#vector = CountVectorizer()\n",
    "#vector.fit_transform(df['Review text']).toarray()"
   ]
  },
  {
   "cell_type": "code",
   "execution_count": 32,
   "id": "f666e7e1",
   "metadata": {},
   "outputs": [],
   "source": [
    "def load_data(file_path):\n",
    "    \"\"\"\n",
    "    Load data from a CSV file.\n",
    "    \"\"\"\n",
    "    return pd.read_csv(file_path)\n",
    "\n",
    "def split_inputs_output(data, inputs, output):\n",
    "    \"\"\"\n",
    "    Split features and target variables.\n",
    "    \"\"\"\n",
    "    X = data[inputs]\n",
    "    y = data[output]\n",
    "    return X, y\n",
    "\n",
    "def split_train_test(X, y, test_size=0.25, random_state=0):\n",
    "    \"\"\"\n",
    "    Split data into train and test sets.\n",
    "    \"\"\"\n",
    "    return train_test_split(X, y, test_size=test_size, random_state=random_state)\n",
    "\n",
    "def apply_vectorizers(X_train, X_test):\n",
    "    count_pipeline = Pipeline([\n",
    "        ('vectorizer', CountVectorizer()),\n",
    "    ])\n",
    "\n",
    "    X_train = count_pipeline.fit_transform(X_train)\n",
    "\n",
    "    X_test = count_pipeline.transform(X_test)\n",
    "    \n",
    "    return X_train, X_test\n",
    "\n",
    "def train_model(X_train, y_train, hyperparameters,algorithm):\n",
    "    \"\"\"\n",
    "    Training the machine learning model.\n",
    "    \"\"\"\n",
    "    if 'knn' in algorithm.lower():\n",
    "        knn = KNeighborsClassifier(**hyperparameters)\n",
    "        knn.fit(X_train, y_train)\n",
    "        return knn\n",
    "    \n",
    "    elif 'svc' in algorithm.lower():\n",
    "        svc = SVC(**hyperparameters)\n",
    "        svc.fit(X_train,y_train)\n",
    "        return svc\n",
    "    \n",
    "    elif 'log' in algorithm.lower():\n",
    "        log = LogisticRegression(**hyperparameters)\n",
    "        log.fit(X_train, y_train)\n",
    "        return log\n",
    "    \n",
    "    elif 'random' in algorithm.lower():\n",
    "        ran = RandomForestClassifier(**hyperparameters)\n",
    "        ran.fit(X_train,y_train)\n",
    "        return ran\n",
    "    \n",
    "    elif 'decision' in algorithm.lower():\n",
    "        dt = DecisionTreeClassifier(**hyperparameters)\n",
    "        dt.fit(X_train,y_train)\n",
    "        return dt\n",
    "    \n",
    "    elif 'naive' in algorithm.lower():\n",
    "        nb = MultinomialNB(**hyperparameters)\n",
    "        nb.fit(X_train,y_train)\n",
    "        return nb\n",
    "    \n",
    "    else:\n",
    "        raise ValueError('Please pass a valid algorithm')\n",
    "        \n",
    "def evaluate_model(model, X_train, y_train, X_test, y_test):\n",
    "    \"\"\"\n",
    "    Evaluating the model.\n",
    "    \"\"\"\n",
    "    y_train_pred = model.predict(X_train)\n",
    "    y_test_pred = model.predict(X_test)\n",
    "\n",
    "    train_score = accuracy_score(y_train, y_train_pred)\n",
    "    test_score = accuracy_score(y_test, y_test_pred)\n",
    "\n",
    "    return train_score, test_score       "
   ]
  },
  {
   "cell_type": "code",
   "execution_count": 33,
   "id": "5ca7d4b6",
   "metadata": {},
   "outputs": [],
   "source": [
    "def workflow(data_path):\n",
    "    DATA_PATH = data_path\n",
    "    INPUTS = 'Review text'\n",
    "    OUTPUT = 'Emotion'\n",
    "    algorithm = input(\"Enter the Algorithm:\")\n",
    "    if 'knn' in algorithm.lower():\n",
    "        HYPERPARAMETERS = {'n_neighbors': 3, 'p': 2}\n",
    "    elif 'svc' in algorithm.lower():\n",
    "        HYPERPARAMETERS = {'C': 2, 'kernel': 3,}\n",
    "    elif 'log' in algorithm.lower():\n",
    "        HYPERPARAMETERS = {'C':1.0, 'penalty':'l2'}\n",
    "    elif 'random' in algorithm.lower():\n",
    "        HYPERPARAMETERS = {'n_estimators':100}\n",
    "    elif 'decision' in algorithm.lower():\n",
    "        HYPERPARAMETERS = {'max_depth':None}  \n",
    "    elif 'naive' in algorithm.lower():\n",
    "        HYPERPARAMETERS = {'alpha':1.0}\n",
    "        \n",
    "    \n",
    "    # Load data\n",
    "    pref = load_data(DATA_PATH)\n",
    "\n",
    "    # Identify Inputs and Output\n",
    "    X, y = split_inputs_output(pref, INPUTS, OUTPUT)\n",
    "\n",
    "    # Split data into train and test sets\n",
    "    X_train, X_test, y_train, y_test = split_train_test(X, y)\n",
    "\n",
    "    # Preprocess the data\n",
    "    X_train, X_test = apply_vectorizers(X_train, X_test)\n",
    "\n",
    "    # Build a model\n",
    "    model = train_model(X_train, y_train, HYPERPARAMETERS,algorithm)\n",
    "    \n",
    "    # Evaluation\n",
    "    train_score, test_score = evaluate_model(model, X_train, y_train, X_test, y_test)\n",
    "    \n",
    "    print(\"Train Score:\", train_score)\n",
    "    print(\"Test Score:\", test_score)"
   ]
  },
  {
   "cell_type": "code",
   "execution_count": 37,
   "id": "23eeab1f",
   "metadata": {},
   "outputs": [
    {
     "name": "stdout",
     "output_type": "stream",
     "text": [
      "Enter the Algorithm:naive\n",
      "Train Score: 0.9393511988716502\n",
      "Test Score: 0.9055007052186178\n"
     ]
    }
   ],
   "source": [
    "if __name__ == \"__main__\":\n",
    "    workflow(data_path=\"df_yonex.csv\")"
   ]
  }
 ],
 "metadata": {
  "kernelspec": {
   "display_name": "Python 3 (ipykernel)",
   "language": "python",
   "name": "python3"
  },
  "language_info": {
   "codemirror_mode": {
    "name": "ipython",
    "version": 3
   },
   "file_extension": ".py",
   "mimetype": "text/x-python",
   "name": "python",
   "nbconvert_exporter": "python",
   "pygments_lexer": "ipython3",
   "version": "3.11.4"
  }
 },
 "nbformat": 4,
 "nbformat_minor": 5
}
